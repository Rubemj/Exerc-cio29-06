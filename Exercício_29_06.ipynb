{
  "nbformat": 4,
  "nbformat_minor": 0,
  "metadata": {
    "colab": {
      "provenance": [],
      "authorship_tag": "ABX9TyN5sWeLkeboi+M8HvWYdulS",
      "include_colab_link": true
    },
    "kernelspec": {
      "name": "python3",
      "display_name": "Python 3"
    },
    "language_info": {
      "name": "python"
    }
  },
  "cells": [
    {
      "cell_type": "markdown",
      "metadata": {
        "id": "view-in-github",
        "colab_type": "text"
      },
      "source": [
        "<a href=\"https://colab.research.google.com/github/Rubemj/Exerc-cio29-06/blob/main/Exerc%C3%ADcio_29_06.ipynb\" target=\"_parent\"><img src=\"https://colab.research.google.com/assets/colab-badge.svg\" alt=\"Open In Colab\"/></a>"
      ]
    },
    {
      "cell_type": "code",
      "execution_count": 9,
      "metadata": {
        "colab": {
          "base_uri": "https://localhost:8080/"
        },
        "id": "Y-7tRamnKCtd",
        "outputId": "9c0f90df-23eb-4ce6-f047-704c982be9dc"
      },
      "outputs": [
        {
          "output_type": "stream",
          "name": "stdout",
          "text": [
            "Digite um numero: 50\n",
            "Digite outro numero: 3\n",
            "Qual calculo deseja fazer: 1[+] 2[-] 3[*] 4[/]8\n",
            "Opção Incorreta\n"
          ]
        }
      ],
      "source": [
        "n1 = int(input(\"Digite um numero: \"))\n",
        "n2 = int(input(\"Digite outro numero: \"))\n",
        "calculo = int(input(\"Qual calculo deseja fazer: 1[+] 2[-] 3[*] 4[/]\"))\n",
        "\n",
        "if calculo == 1:\n",
        "  print(f\"{n1} + {n2} = {n1+n2}\")\n",
        "elif calculo == 2:\n",
        "  print(f\"{n1} - {n2} = {n1-n2}\")\n",
        "elif calculo == 3:\n",
        "  print(f\"{n1} * {n2} = {n1*n2}\")\n",
        "elif calculo == 4:\n",
        "  print(f\"{n1} / {n2} = {n1/n2}\")\n",
        "\n",
        "else:\n",
        "  print(\"Opção Incorreta\")"
      ]
    }
  ]
}